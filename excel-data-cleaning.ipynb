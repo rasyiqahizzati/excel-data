{
 "cells": [
  {
   "cell_type": "markdown",
   "metadata": {},
   "source": [
    "New Regular expression (Regex) functions in Excel"
   ]
  },
  {
   "cell_type": "code",
   "execution_count": null,
   "metadata": {},
   "outputs": [],
   "source": [
    "The new regex functions we are introducing are:\n",
    "\n",
    "REGEXTEST: Checks if any part of supplied text matches a regex pattern.\n",
    "REGEXEXTRACT: Extracts one or more parts of supplied text that match a regex pattern.\n",
    "REGEXREPLACE: Searches for a regex pattern within supplied text and replaces it with different text."
   ]
  },
  {
   "cell_type": "markdown",
   "metadata": {},
   "source": [
    "Tips and tricks\n",
    "When writing regex patterns, you can use symbols called ‘tokens’ that match with a variety of characters. Here are some useful tokens to get you started:\n",
    "\n",
    "“[0-9]”: any numerical digit\n",
    "“[a-z]”: a character in the range of a to z\n",
    "“.”: any character\n",
    "“a”: the “a” character\n",
    "“a*”: zero or more “a”\n",
    "“a+”: one or more “a” "
   ]
  },
  {
   "cell_type": "code",
   "execution_count": null,
   "metadata": {},
   "outputs": [],
   "source": [
    "REGEXTEST\n",
    "REGEXTEST checks whether the pattern matches any part of the provided text, always returning TRUE or FALSE."
   ]
  },
  {
   "cell_type": "code",
   "execution_count": null,
   "metadata": {},
   "outputs": [],
   "source": [
    "REGEXEXTRACT\n",
    "REGEXEXTRACT returns substrings of text that match the pattern provided. Depending on the return mode, it can return the first match, all matches, or each capture group from the first match."
   ]
  },
  {
   "cell_type": "code",
   "execution_count": null,
   "metadata": {},
   "outputs": [],
   "source": [
    "REGEXREPLACE\n",
    "REGEXREPLACE looks for substrings of text that match the pattern provided, and then replaces them with a replacement string."
   ]
  },
  {
   "cell_type": "code",
   "execution_count": null,
   "metadata": {},
   "outputs": [],
   "source": [
    "TRIM: Removes extra spaces from text, leaving only single spaces between words"
   ]
  },
  {
   "cell_type": "code",
   "execution_count": null,
   "metadata": {},
   "outputs": [],
   "source": [
    "CLEAN: Removes all non-printable characters from text."
   ]
  },
  {
   "cell_type": "code",
   "execution_count": null,
   "metadata": {},
   "outputs": [],
   "source": [
    "SUBSTITUTE: Replaces specific text in a string with another text"
   ]
  },
  {
   "cell_type": "code",
   "execution_count": null,
   "metadata": {},
   "outputs": [],
   "source": [
    "TEXT TO COLUMNS: Splits text into different columns based on a delimiter."
   ]
  },
  {
   "cell_type": "code",
   "execution_count": null,
   "metadata": {},
   "outputs": [],
   "source": [
    "REMOVE DUPLICATES: Deletes duplicate rows from your data\n"
   ]
  },
  {
   "cell_type": "code",
   "execution_count": null,
   "metadata": {},
   "outputs": [],
   "source": [
    "FIND and REPLACE: Quickly find and replace text within your data"
   ]
  },
  {
   "cell_type": "code",
   "execution_count": null,
   "metadata": {},
   "outputs": [],
   "source": [
    "UPPER, LOWER, PROPER: Changes the case of text"
   ]
  },
  {
   "cell_type": "code",
   "execution_count": null,
   "metadata": {},
   "outputs": [],
   "source": [
    "IFERROR: Handles errors in your formulas"
   ]
  },
  {
   "cell_type": "code",
   "execution_count": null,
   "metadata": {},
   "outputs": [],
   "source": [
    "TEXTJOIN: Combines text from multiple ranges with a delimiter"
   ]
  },
  {
   "cell_type": "code",
   "execution_count": null,
   "metadata": {},
   "outputs": [],
   "source": [
    "POWER QUERY: A powerful tool for data transformation and cleaning"
   ]
  },
  {
   "cell_type": "code",
   "execution_count": null,
   "metadata": {},
   "outputs": [],
   "source": [
    "Removing duplicates in Excel is straightforward and can be done using the built-in Remove Duplicates feature. Here’s how you can do it:\n",
    "\n",
    "1. Select Your Data Range:\n",
    "Highlight the range of cells from which you want to remove duplicates.\n",
    "2. Go to the Data Tab:\n",
    "Click on the Data tab in the ribbon.\n",
    "3. Click on Remove Duplicates:\n",
    "In the Data Tools group, click on Remove Duplicates.\n",
    "4. Choose Columns:\n",
    "A dialog box will appear. Select the columns you want to check for duplicates. By default, all columns are selected.\n",
    "5. Click OK:\n",
    "Click OK to remove duplicates. Excel will show a message indicating how many duplicate values were removed and how many unique values remain."
   ]
  },
  {
   "cell_type": "code",
   "execution_count": null,
   "metadata": {},
   "outputs": [],
   "source": []
  }
 ],
 "metadata": {
  "language_info": {
   "name": "python"
  }
 },
 "nbformat": 4,
 "nbformat_minor": 2
}
